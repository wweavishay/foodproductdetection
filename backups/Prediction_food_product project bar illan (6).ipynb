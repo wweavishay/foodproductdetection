version https://git-lfs.github.com/spec/v1
oid sha256:74efa3af7b9a30957e6cb26e866ed6814aa9ce8c8401f3922ccf5fab82b64d6c
size 20241260
