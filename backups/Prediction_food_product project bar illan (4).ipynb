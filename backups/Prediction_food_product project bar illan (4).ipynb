version https://git-lfs.github.com/spec/v1
oid sha256:a9a17cfde8711271a7a01d300f696e9448f4b17f8c82d1c71ac32f04aad8aac8
size 20570673
