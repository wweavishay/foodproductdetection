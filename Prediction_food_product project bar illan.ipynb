version https://git-lfs.github.com/spec/v1
oid sha256:17c259b8ae48b55f7f769766a342fd49932415f036b31f5d3533ded30a59acf0
size 20404514
